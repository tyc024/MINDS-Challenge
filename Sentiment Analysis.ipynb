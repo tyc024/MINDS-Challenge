{
 "cells": [
  {
   "cell_type": "code",
   "execution_count": 1,
   "metadata": {},
   "outputs": [],
   "source": [
    "import numpy\n",
    "import json\n",
    "from tqdm import tqdm\n",
    "from spacy_langdetect import LanguageDetector\n",
    "from spacy.language import Language\n",
    "import spacy\n",
    "import emoji"
   ]
  },
  {
   "cell_type": "code",
   "execution_count": 2,
   "metadata": {},
   "outputs": [],
   "source": [
    "with open(\"messages.json\", \"r\") as f:\n",
    "    chatroom = json.load(f)"
   ]
  },
  {
   "cell_type": "code",
   "execution_count": 3,
   "metadata": {},
   "outputs": [],
   "source": [
    "messages = chatroom['messages']"
   ]
  },
  {
   "cell_type": "code",
   "execution_count": 101,
   "metadata": {},
   "outputs": [
    {
     "data": {
      "text/plain": [
       "[{'id': 1903819,\n",
       "  'type': 'message',\n",
       "  'date': '2021-05-01T00:00:12',\n",
       "  'from': None,\n",
       "  'from_id': 'user1650688285',\n",
       "  'text': 'hi'},\n",
       " {'id': 1903842,\n",
       "  'type': 'message',\n",
       "  'date': '2021-05-01T00:01:13',\n",
       "  'from': None,\n",
       "  'from_id': 'user1650688285',\n",
       "  'text': 'do indicators work?'},\n",
       " {'id': 1903855,\n",
       "  'type': 'message',\n",
       "  'date': '2021-05-01T00:01:50',\n",
       "  'from': 'Social Ch4in',\n",
       "  'from_id': 'user484605980',\n",
       "  'text': 'If you trade true gbp for gbp Fiat or vice Versa is there a fee?'},\n",
       " {'id': 1903856,\n",
       "  'type': 'message',\n",
       "  'date': '2021-05-01T00:02:05',\n",
       "  'from': 'Social Ch4in',\n",
       "  'from_id': 'user484605980',\n",
       "  'text': 'And how much is that fee?'},\n",
       " {'id': 1903857,\n",
       "  'type': 'message',\n",
       "  'date': '2021-05-01T00:02:12',\n",
       "  'from': 'Social Ch4in',\n",
       "  'from_id': 'user484605980',\n",
       "  'text': 'If you’re a silver card holder'},\n",
       " {'id': 1903858,\n",
       "  'type': 'message',\n",
       "  'date': '2021-05-01T00:02:14',\n",
       "  'from': 'Syncrol',\n",
       "  'from_id': 'user1619562639',\n",
       "  'text': 'Make CKB withdrawable !'},\n",
       " {'id': 1903859,\n",
       "  'type': 'message',\n",
       "  'date': '2021-05-01T00:02:58',\n",
       "  'from': 'Neto | Crypto.com',\n",
       "  'from_id': 'user1395411322',\n",
       "  'reply_to_message_id': 1903842,\n",
       "  'text': 'Indicators like, on a car?'},\n",
       " {'id': 1903875,\n",
       "  'type': 'message',\n",
       "  'date': '2021-05-01T00:11:01',\n",
       "  'from': 'Neto | Crypto.com',\n",
       "  'from_id': 'user1395411322',\n",
       "  'reply_to_message_id': 1903855,\n",
       "  'text': 'I believe they are able to be exchanged at 1:1, though it’s best to verify with your local community — As I don’t deal in GBP often 🙏'},\n",
       " {'id': 1903888,\n",
       "  'type': 'message',\n",
       "  'date': '2021-05-01T00:15:08',\n",
       "  'from': 'SurferD',\n",
       "  'from_id': 'user1517418468',\n",
       "  'reply_to_message_id': 1903719,\n",
       "  'text': 'Any admin to advise me on this please?'},\n",
       " {'id': 1903896,\n",
       "  'type': 'message',\n",
       "  'date': '2021-05-01T00:16:46',\n",
       "  'from': 'Chetan',\n",
       "  'from_id': 'user784698887',\n",
       "  'text': ['Can anybody predict ',\n",
       "   {'type': 'link', 'text': 'Crypto.com'},\n",
       "   ' coin price in month?']}]"
      ]
     },
     "execution_count": 101,
     "metadata": {},
     "output_type": "execute_result"
    }
   ],
   "source": [
    "messages[:10]"
   ]
  },
  {
   "cell_type": "code",
   "execution_count": 4,
   "metadata": {},
   "outputs": [
    {
     "data": {
      "text/plain": [
       "47232"
      ]
     },
     "execution_count": 4,
     "metadata": {},
     "output_type": "execute_result"
    }
   ],
   "source": [
    "len(messages)"
   ]
  },
  {
   "cell_type": "code",
   "execution_count": 5,
   "metadata": {},
   "outputs": [],
   "source": [
    "messages_text = []\n",
    "for m in messages:\n",
    "    messages_text.append(m['text'])"
   ]
  },
  {
   "cell_type": "code",
   "execution_count": 102,
   "metadata": {},
   "outputs": [],
   "source": [
    "messages_date = []\n",
    "for m in messages:\n",
    "    date = m['date'][:10]\n",
    "    messages_date.append(date)"
   ]
  },
  {
   "cell_type": "code",
   "execution_count": 105,
   "metadata": {},
   "outputs": [
    {
     "data": {
      "text/plain": [
       "['2021-05-14',\n",
       " '2021-05-14',\n",
       " '2021-05-14',\n",
       " '2021-05-14',\n",
       " '2021-05-14',\n",
       " '2021-05-14',\n",
       " '2021-05-14',\n",
       " '2021-05-14',\n",
       " '2021-05-14',\n",
       " '2021-05-14']"
      ]
     },
     "execution_count": 105,
     "metadata": {},
     "output_type": "execute_result"
    }
   ],
   "source": [
    "messages_date[-10:]"
   ]
  },
  {
   "cell_type": "code",
   "execution_count": 6,
   "metadata": {},
   "outputs": [
    {
     "data": {
      "text/plain": [
       "['hi',\n",
       " 'do indicators work?',\n",
       " 'If you trade true gbp for gbp Fiat or vice Versa is there a fee?',\n",
       " 'And how much is that fee?',\n",
       " 'If you’re a silver card holder']"
      ]
     },
     "execution_count": 6,
     "metadata": {},
     "output_type": "execute_result"
    }
   ],
   "source": [
    "messages_text[:5]"
   ]
  },
  {
   "cell_type": "code",
   "execution_count": 7,
   "metadata": {},
   "outputs": [
    {
     "data": {
      "text/plain": [
       "<spacy_langdetect.spacy_langdetect.LanguageDetector at 0x7ffd89ba9748>"
      ]
     },
     "execution_count": 7,
     "metadata": {},
     "output_type": "execute_result"
    }
   ],
   "source": [
    "nlp = spacy.load(\"en_core_web_sm\")\n",
    "def get_lang_detector(nlp, name):\n",
    "    return LanguageDetector()\n",
    "Language.factory(\"language_detector\", func=get_lang_detector)\n",
    "nlp.add_pipe('language_detector', last=True)"
   ]
  },
  {
   "cell_type": "code",
   "execution_count": 8,
   "metadata": {},
   "outputs": [],
   "source": [
    "def give_emoji_free_text(text):\n",
    "    text = text.encode(encoding='utf-8')\n",
    "    return emoji.get_emoji_regexp().sub(r'', text.decode('utf8'))"
   ]
  },
  {
   "cell_type": "code",
   "execution_count": 14,
   "metadata": {},
   "outputs": [],
   "source": [
    "def is_english(nlp, s):\n",
    "    try:\n",
    "        s.encode(encoding='utf-8').decode('ascii')\n",
    "    except UnicodeDecodeError:\n",
    "#         print(s)\n",
    "        return False\n",
    "    else:\n",
    "        return True\n",
    "#         doc = nlp(s)\n",
    "#         detect_language = doc._.language\n",
    "#         if detect_language['language'] != 'en':\n",
    "#             return False\n",
    "#         else:\n",
    "#             return True\n",
    "def has_shib_doge(s):\n",
    "    s = s.lower()\n",
    "    return \"shib\" in s or \"doge\" in s  "
   ]
  },
  {
   "cell_type": "code",
   "execution_count": 10,
   "metadata": {},
   "outputs": [
    {
     "data": {
      "text/plain": [
       "True"
      ]
     },
     "execution_count": 10,
     "metadata": {},
     "output_type": "execute_result"
    }
   ],
   "source": [
    "is_english(nlp, \"I made an account before 4 days with email \")"
   ]
  },
  {
   "cell_type": "code",
   "execution_count": 11,
   "metadata": {},
   "outputs": [
    {
     "data": {
      "text/plain": [
       "'DOGE coin is up by +16.39% '"
      ]
     },
     "execution_count": 11,
     "metadata": {},
     "output_type": "execute_result"
    }
   ],
   "source": [
    "give_emoji_free_text(\"DOGE coin is up by +16.39% 🚀🚀🚀\")"
   ]
  },
  {
   "cell_type": "code",
   "execution_count": 12,
   "metadata": {},
   "outputs": [],
   "source": [
    "transl_table = dict( [ (ord(x), ord(y)) for x,y in zip( u\"‘’´“”–-\",  u\"'''\\\"\\\"--\") ] ) "
   ]
  },
  {
   "cell_type": "code",
   "execution_count": 78,
   "metadata": {},
   "outputs": [],
   "source": [
    "def combine_sentence(message_list):\n",
    "    msg = \"\"\n",
    "    for i in message_list:\n",
    "        if type(i) == str:\n",
    "            msg += i\n",
    "    return msg"
   ]
  },
  {
   "cell_type": "code",
   "execution_count": 79,
   "metadata": {},
   "outputs": [
    {
     "name": "stderr",
     "output_type": "stream",
     "text": [
      "100%|██████████| 47232/47232 [00:08<00:00, 5306.85it/s]\n"
     ]
    }
   ],
   "source": [
    "clean_messages = []\n",
    "dirty_messages = []\n",
    "exceptions = []\n",
    "for m in tqdm(messages_text):\n",
    "    if type(m) != str:\n",
    "        m = combine_sentence(m)\n",
    "    m = give_emoji_free_text(m)\n",
    "    m = m.translate(transl_table)\n",
    "    if has_shib_doge(m) and is_english(nlp, m):\n",
    "        clean_messages.append(m)\n",
    "    else:\n",
    "        dirty_messages.append(m)"
   ]
  },
  {
   "cell_type": "code",
   "execution_count": 80,
   "metadata": {},
   "outputs": [
    {
     "data": {
      "text/plain": [
       "2872"
      ]
     },
     "execution_count": 80,
     "metadata": {},
     "output_type": "execute_result"
    }
   ],
   "source": [
    "len(clean_messages)"
   ]
  },
  {
   "cell_type": "code",
   "execution_count": 99,
   "metadata": {},
   "outputs": [],
   "source": [
    "# clean_messages[:50]"
   ]
  },
  {
   "cell_type": "code",
   "execution_count": 21,
   "metadata": {},
   "outputs": [],
   "source": [
    "from flair.models import TextClassifier\n",
    "from flair.data import Sentence"
   ]
  },
  {
   "cell_type": "code",
   "execution_count": 53,
   "metadata": {},
   "outputs": [
    {
     "name": "stdout",
     "output_type": "stream",
     "text": [
      "2021-12-18 01:56:23,141 https://nlp.informatik.hu-berlin.de/resources/models/sentiment-curated-fasttext-rnn/sentiment-en-mix-ft-rnn_v8.pt not found in cache, downloading to /tmp/tmpyd7n3_q5\n"
     ]
    },
    {
     "name": "stderr",
     "output_type": "stream",
     "text": [
      "100%|██████████| 1241977025/1241977025 [02:24<00:00, 8568908.74B/s] "
     ]
    },
    {
     "name": "stdout",
     "output_type": "stream",
     "text": [
      "2021-12-18 01:58:48,696 copying /tmp/tmpyd7n3_q5 to cache at /Users/tiffanychang/.flair/models/sentiment-en-mix-ft-rnn_v8.pt\n"
     ]
    },
    {
     "name": "stderr",
     "output_type": "stream",
     "text": [
      "\n"
     ]
    },
    {
     "name": "stdout",
     "output_type": "stream",
     "text": [
      "2021-12-18 01:58:50,345 removing temp file /tmp/tmpyd7n3_q5\n",
      "2021-12-18 01:58:50,445 loading file /Users/tiffanychang/.flair/models/sentiment-en-mix-ft-rnn_v8.pt\n"
     ]
    }
   ],
   "source": [
    "# sentiment_nlp = TextClassifier.load('en-sentiment')\n",
    "sentiment_nlp = TextClassifier.load('sentiment-fast')"
   ]
  },
  {
   "cell_type": "code",
   "execution_count": 90,
   "metadata": {},
   "outputs": [],
   "source": [
    "def flair_prediction(nlp, x):\n",
    "    sentence = Sentence(x)\n",
    "    nlp.predict(sentence)\n",
    "    score = sentence.labels[0]\n",
    "    if \"POSITIVE\" in str(score):\n",
    "        return \"pos\"\n",
    "    elif \"NEGATIVE\" in str(score):\n",
    "        return \"neg\"\n",
    "    else:\n",
    "        return \"neu\"\n",
    "    \n",
    "def flair_prediction_value(nlp, x):\n",
    "    sentence = Sentence(x)\n",
    "    nlp.predict(sentence)\n",
    "    score = sentence.labels[0]\n",
    "    return score.score"
   ]
  },
  {
   "cell_type": "code",
   "execution_count": 26,
   "metadata": {},
   "outputs": [],
   "source": [
    "import pandas as pd"
   ]
  },
  {
   "cell_type": "code",
   "execution_count": 85,
   "metadata": {},
   "outputs": [],
   "source": [
    "df = pd.DataFrame()"
   ]
  },
  {
   "cell_type": "code",
   "execution_count": 86,
   "metadata": {},
   "outputs": [],
   "source": [
    "df['text'] = clean_messages"
   ]
  },
  {
   "cell_type": "code",
   "execution_count": 96,
   "metadata": {},
   "outputs": [],
   "source": [
    "df['sentiment'] = df[\"text\"].apply(lambda x: flair_prediction(sentiment_nlp, x))\n",
    "df['score'] = df['text'].apply(lambda x: flair_prediction_value(sentiment_nlp, x))"
   ]
  },
  {
   "cell_type": "code",
   "execution_count": 98,
   "metadata": {},
   "outputs": [
    {
     "data": {
      "text/html": [
       "<div>\n",
       "<style scoped>\n",
       "    .dataframe tbody tr th:only-of-type {\n",
       "        vertical-align: middle;\n",
       "    }\n",
       "\n",
       "    .dataframe tbody tr th {\n",
       "        vertical-align: top;\n",
       "    }\n",
       "\n",
       "    .dataframe thead th {\n",
       "        text-align: right;\n",
       "    }\n",
       "</style>\n",
       "<table border=\"1\" class=\"dataframe\">\n",
       "  <thead>\n",
       "    <tr style=\"text-align: right;\">\n",
       "      <th></th>\n",
       "      <th>text</th>\n",
       "      <th>sentiment</th>\n",
       "      <th>score</th>\n",
       "    </tr>\n",
       "  </thead>\n",
       "  <tbody>\n",
       "    <tr>\n",
       "      <th>0</th>\n",
       "      <td>Doge is going craY</td>\n",
       "      <td>neg</td>\n",
       "      <td>0.792797</td>\n",
       "    </tr>\n",
       "    <tr>\n",
       "      <th>1</th>\n",
       "      <td>Sell target of doge</td>\n",
       "      <td>neg</td>\n",
       "      <td>0.959932</td>\n",
       "    </tr>\n",
       "    <tr>\n",
       "      <th>2</th>\n",
       "      <td>Doge</td>\n",
       "      <td>pos</td>\n",
       "      <td>0.536456</td>\n",
       "    </tr>\n",
       "    <tr>\n",
       "      <th>3</th>\n",
       "      <td>Dogecoin!!! Que hago?</td>\n",
       "      <td>neg</td>\n",
       "      <td>0.753658</td>\n",
       "    </tr>\n",
       "    <tr>\n",
       "      <th>4</th>\n",
       "      <td>Anyway, is doge a good crypto for long term in...</td>\n",
       "      <td>neg</td>\n",
       "      <td>0.577099</td>\n",
       "    </tr>\n",
       "    <tr>\n",
       "      <th>5</th>\n",
       "      <td>Doge target</td>\n",
       "      <td>pos</td>\n",
       "      <td>0.608428</td>\n",
       "    </tr>\n",
       "    <tr>\n",
       "      <th>6</th>\n",
       "      <td>Who else going to mars With doge</td>\n",
       "      <td>pos</td>\n",
       "      <td>0.991977</td>\n",
       "    </tr>\n",
       "    <tr>\n",
       "      <th>7</th>\n",
       "      <td>Doge to the moon</td>\n",
       "      <td>pos</td>\n",
       "      <td>0.806820</td>\n",
       "    </tr>\n",
       "    <tr>\n",
       "      <th>8</th>\n",
       "      <td>Doge is dompig</td>\n",
       "      <td>neg</td>\n",
       "      <td>0.616550</td>\n",
       "    </tr>\n",
       "    <tr>\n",
       "      <th>9</th>\n",
       "      <td>Doge</td>\n",
       "      <td>pos</td>\n",
       "      <td>0.536456</td>\n",
       "    </tr>\n",
       "  </tbody>\n",
       "</table>\n",
       "</div>"
      ],
      "text/plain": [
       "                                                text sentiment     score\n",
       "0                                 Doge is going craY       neg  0.792797\n",
       "1                                Sell target of doge       neg  0.959932\n",
       "2                                               Doge       pos  0.536456\n",
       "3                              Dogecoin!!! Que hago?       neg  0.753658\n",
       "4  Anyway, is doge a good crypto for long term in...       neg  0.577099\n",
       "5                                       Doge target        pos  0.608428\n",
       "6                   Who else going to mars With doge       pos  0.991977\n",
       "7                                   Doge to the moon       pos  0.806820\n",
       "8                                    Doge is dompig        neg  0.616550\n",
       "9                                             Doge         pos  0.536456"
      ]
     },
     "execution_count": 98,
     "metadata": {},
     "output_type": "execute_result"
    }
   ],
   "source": [
    "df.head(10)"
   ]
  },
  {
   "cell_type": "code",
   "execution_count": 59,
   "metadata": {},
   "outputs": [
    {
     "data": {
      "text/plain": [
       "'neg'"
      ]
     },
     "execution_count": 59,
     "metadata": {},
     "output_type": "execute_result"
    }
   ],
   "source": [
    "flair_prediction(\"Will hit 1$?\")"
   ]
  },
  {
   "cell_type": "code",
   "execution_count": 61,
   "metadata": {},
   "outputs": [
    {
     "data": {
      "text/plain": [
       "'neg'"
      ]
     },
     "execution_count": 61,
     "metadata": {},
     "output_type": "execute_result"
    }
   ],
   "source": [
    "flair_prediction(\"this is gonna rise\")"
   ]
  },
  {
   "cell_type": "code",
   "execution_count": 51,
   "metadata": {},
   "outputs": [],
   "source": [
    "sentence = Sentence(\"this thing is ok\")\n",
    "sentiment_nlp.predict(sentence)\n",
    "# score = sentence.labels[0]"
   ]
  },
  {
   "cell_type": "code",
   "execution_count": 52,
   "metadata": {},
   "outputs": [
    {
     "data": {
      "text/plain": [
       "[NEGATIVE (0.7494)]"
      ]
     },
     "execution_count": 52,
     "metadata": {},
     "output_type": "execute_result"
    }
   ],
   "source": [
    "sentence.labels"
   ]
  },
  {
   "cell_type": "code",
   "execution_count": 106,
   "metadata": {},
   "outputs": [],
   "source": [
    "import plotly.express as px"
   ]
  },
  {
   "cell_type": "code",
   "execution_count": null,
   "metadata": {},
   "outputs": [],
   "source": [
    "fig = px.bar(df, x = \"sepal_width\", y = \"sepal_length\")"
   ]
  }
 ],
 "metadata": {
  "kernelspec": {
   "display_name": "py3.6",
   "language": "python",
   "name": "py3.6"
  },
  "language_info": {
   "codemirror_mode": {
    "name": "ipython",
    "version": 3
   },
   "file_extension": ".py",
   "mimetype": "text/x-python",
   "name": "python",
   "nbconvert_exporter": "python",
   "pygments_lexer": "ipython3",
   "version": "3.6.13"
  }
 },
 "nbformat": 4,
 "nbformat_minor": 2
}
